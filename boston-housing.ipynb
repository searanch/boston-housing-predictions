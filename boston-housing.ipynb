{
 "cells": [
  {
   "cell_type": "markdown",
   "id": "b29a88b7-310a-4222-a0cf-e97e231576e7",
   "metadata": {},
   "source": [
    "### Simple Linear Regression to Predict Housing Prices\n"
   ]
  },
  {
   "cell_type": "markdown",
   "id": "f9908105-5246-47b3-9b96-33c4e0bbcd78",
   "metadata": {},
   "source": [
    "based on 1970 Cenus results in Boston"
   ]
  },
  {
   "cell_type": "code",
   "execution_count": null,
   "id": "1504eda9-2aa7-4d6d-8018-1d949a6e439f",
   "metadata": {},
   "outputs": [],
   "source": [
    "# import packages\n",
    "import pandas as pd\n",
    "import sklearn as sk\n",
    "from sklearn.datasets import load_boston\n",
    "from sklearn.model_selection import train_test_split\n",
    "from sklearn.linear_model import LinearRegression\n",
    "from sklearn.metrics import mean_squared_error, r2_score\n",
    "\n",
    "\n",
    "def make_pred():\n",
    "# load data\n",
    "    boston = load_boston()\n",
    "    # turn into dataframe\n",
    "    df = pd.DataFrame(data=boston.data,columns=boston.feature_names)\n",
    "    # add target variable to the dataframe\n",
    "    df['MEDV'] = boston.target\n",
    "    # Split the data into features and target\n",
    "    X = df.drop('MEDV', axis=1)  # features\n",
    "    y = df['MEDV']  # target variable\n",
    "    df = df.rename(columns={\"CRIM\":\"Crime\",\"ZN\":\"Zone\",\"INDUS\":\"Industry\",\"NOX\":\"NitricOxcide\",\"RM\":\"Rooms\",\"DIS\":\"Distance\",\"RAD\":\"RadialHighway\",\"TAX\":\"PropTax\"})\n",
    "    # Split the data into features and target\n",
    "    X = df.drop('MEDV', axis=1)  # features\n",
    "    y = df['MEDV']  # target variable\n",
    "    # split the data into training and testing set\n",
    "    X_train, X_test, y_train,y_test = train_test_split(X,y, test_size=0.2, random_state=42)\n",
    "    # standardize features by scaling them to 1\n",
    "    from sklearn.preprocessing import StandardScaler\n",
    "\n",
    "    scaler = StandardScaler()\n",
    "    X_train = scaler.fit_transform(X_train)\n",
    "    X_test = scaler.transform(X_test)\n",
    "\n",
    "    # Train the model on the feature-scaled training data set\n",
    "    lr.fit(X_train, y_train)\n",
    "\n",
    "    # Use the trained model to make predictions on the feature-scaled test data set\n",
    "    y_pred = lr.predict(X_test)\n",
    "\n",
    "  \n",
    "    # output true and predicted values\n",
    "    results_df = pd.DataFrame({\"TrueValue\":y_test,\"PredictedValue\":y_pred})\n",
    "    results_df[\"diff\"] = results_df[\"TrueValue\"] - results_df[\"PredictedValue\"]\n",
    "    results_df[\"AbsoluteDiff\"] = results_df[\"diff\"].abs()\n",
    "    \n",
    "    return results_df\n",
    "\n",
    "make_pred()\n"
   ]
  },
  {
   "cell_type": "code",
   "execution_count": 57,
   "id": "774f8ea9-32d1-41da-9050-e6f7d1113186",
   "metadata": {},
   "outputs": [
    {
     "name": "stdout",
     "output_type": "stream",
     "text": [
      "MSE: 24.29111947497352\n",
      "R-squared: 0.668759493535632\n"
     ]
    }
   ],
   "source": [
    "# Create LinearRegression Object\n",
    "from sklearn.linear_model import LinearRegression\n",
    "from sklearn.metrics import mean_squared_error, r2_score\n",
    "\n",
    "# Create a LinearRegression object\n",
    "lr = LinearRegression()\n",
    "\n",
    "# Train the model on the feature-scaled training data set\n",
    "lr.fit(X_train, y_train)\n",
    "\n",
    "# Use the trained model to make predictions on the feature-scaled test data set\n",
    "y_pred = lr.predict(X_test)\n",
    "\n",
    "# Evaluate the performance of the model using mean squared error (MSE) and R-squared\n",
    "mse = mean_squared_error(y_test, y_pred)\n",
    "r2 = r2_score(y_test, y_pred)\n",
    "print(\"MSE:\", mse)\n",
    "print(\"R-squared:\", r2)\n"
   ]
  },
  {
   "cell_type": "code",
   "execution_count": null,
   "id": "7ab1723b-8023-488f-9460-9149094c9c80",
   "metadata": {},
   "outputs": [],
   "source": []
  }
 ],
 "metadata": {
  "kernelspec": {
   "display_name": "Python 3",
   "language": "python",
   "name": "python3"
  },
  "language_info": {
   "codemirror_mode": {
    "name": "ipython",
    "version": 3
   },
   "file_extension": ".py",
   "mimetype": "text/x-python",
   "name": "python",
   "nbconvert_exporter": "python",
   "pygments_lexer": "ipython3",
   "version": "3.8.8"
  }
 },
 "nbformat": 4,
 "nbformat_minor": 5
}
